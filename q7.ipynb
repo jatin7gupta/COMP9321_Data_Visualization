{
 "cells": [
  {
   "cell_type": "code",
   "execution_count": 1,
   "metadata": {
    "jupyter": {
     "source_hidden": true
    }
   },
   "outputs": [
    {
     "name": "stdout",
     "output_type": "stream",
     "text": [
      "                    Country summer_rubbish summer_participation summer_gold summer_silver summer_bronze summer_total winter_participation winter_gold winter_silver winter_bronze winter_total\n",
      "1         Afghanistan (AFG)            BLA                   14           0             0             2            2                    0           0             0             0            0\n",
      "2             Algeria (ALG)            BLA                   13           5             4             8           17                    3           0             0             0            0\n",
      "3           Argentina (ARG)            BLA                   24          21            25            28           74                   19           0             0             0            0\n",
      "4             Armenia (ARM)            BLA                    6           2             6             6           14                    7           0             0             0            0\n",
      "5   Australasia (ANZ) [ANZ]            BLA                    2           3             4             5           12                    0           0             0             0            0\n",
      " United States  917\n",
      "                summer_participation  summer_gold  summer_silver  summer_bronze winter_participation  winter_gold  winter_silver  winter_bronze  total\n",
      "Country                                                                                                                                               \n",
      " United States                    27         1022            795            705                   23          105            110             90   2827\n",
      " Soviet Union                      9          395            319            296                    9           78             57             59   1204\n",
      " Great Britain                    28          263            295            291                   23           11              4             16    880\n",
      " Germany                          16          191            194            230                   12           92             88             60    855\n",
      " France                           28          212            241            263                   23           36             35             53    840\n",
      "           summer_participation  summer_gold  summer_silver  summer_bronze winter_participation  winter_gold  winter_silver  winter_bronze  total\n",
      "Country                                                                                                                                          \n",
      " Jordan                      10            1              0              0                    0            0              0              0      1\n",
      " Djibouti                     8            0              0              1                    0            0              0              0      1\n",
      " Cyprus                      10            0              1              0                   11            0              0              0      1\n",
      " Sudan                       12            0              1              0                    0            0              0              0      1\n",
      " Senegal                     14            0              1              0                    5            0              0              0      1\n"
     ]
    }
   ],
   "source": [
    "'''\n",
    "QUESTION 1\n",
    "'''\n",
    "import pandas as pd\n",
    "# importing the datasets\n",
    "df1 = pd.read_csv('Olympics_dataset1.csv')\n",
    "df2 = pd.read_csv('Olympics_dataset2.csv')\n",
    "\n",
    "# merging the datasets\n",
    "df = pd.merge(left=df1, right=df2, on=None, left_on='Team', right_on='Team')\n",
    "\n",
    "# dropping the first row of the datasets\n",
    "df.drop(df.index[0], inplace=True)\n",
    "\n",
    "# dropping the unsued columns\n",
    "df.drop(['Combined Total', 'Unnamed: 7', 'Unnamed: 8', 'Unnamed: 9', 'Unnamed: 10',], axis='columns', inplace=True)\n",
    "\n",
    "# creating a dict to map the renaming of columns\n",
    "rename_dict = {\n",
    "    \"Team\": \"Country\",\n",
    "    \"Unnamed: 1\": \"summer_rubbish\",\n",
    "    \"Summer Games\": \"summer_participation\",\n",
    "    \"Unnamed: 3_x\": \"summer_gold\",\n",
    "    \"Unnamed: 4_x\": \"summer_silver\",\n",
    "    \"Unnamed: 5_x\": \"summer_bronze\",\n",
    "    \"Unnamed: 6\": \"summer_total\",\n",
    "    \"Winter Games\": \"winter_participation\",\n",
    "    \"Unnamed: 2\": \"winter_gold\",\n",
    "    \"Unnamed: 3_y\": \"winter_silver\",\n",
    "    \"Unnamed: 4_y\": \"winter_bronze\",\n",
    "    \"Unnamed: 5_y\": \"winter_total\",\n",
    "}\n",
    "\n",
    "# renaming the columns\n",
    "df.rename(columns=rename_dict, inplace=True)\n",
    "\n",
    "# removing the 'Totals' row from the dataframe\n",
    "df = df[df.Country != 'Totals']\n",
    "#df.drop(df.index[df.shape[0]-1], inplace=True)\n",
    "\n",
    "# printing first five rows of dataframe\n",
    "print(df.head().to_string())\n",
    "\n",
    "'''\n",
    "QUESTION 2\n",
    "'''\n",
    "\n",
    "# function for removing the words in brackets\n",
    "def remove_words_in_brackets(cell):\n",
    "    for i in range(len(cell)):\n",
    "        if cell[i] == '(':\n",
    "            return cell[:i]\n",
    "    return cell\n",
    "\n",
    "# removing words in brackets\n",
    "df['Country'] = df['Country'].map(remove_words_in_brackets)\n",
    "\n",
    "# setting index as Country\n",
    "df.set_index('Country', inplace=True)\n",
    "\n",
    "# removing the undesired columns\n",
    "df.drop(['summer_rubbish', 'summer_total', 'winter_total'], axis='columns', inplace=True)\n",
    "\n",
    "# printing the data\n",
    "df.head().to_string()\n",
    "\n",
    "'''\n",
    "QUESTION 3\n",
    "'''\n",
    "\n",
    "# dropping rows with na values\n",
    "df.dropna(how='all', inplace=True)\n",
    "\n",
    "# printing values\n",
    "df.tail(10).to_string()\n",
    "\n",
    "\n",
    "'''\n",
    "QUESTION 4\n",
    "'''\n",
    "\n",
    "# function for casting string to integer\n",
    "def convert_int(n):\n",
    "    if ',' in n:\n",
    "        n = n.replace(',', '')\n",
    "        return int(n)\n",
    "    else:\n",
    "        return int(n)\n",
    "\n",
    "# converting string into numbers\n",
    "df['summer_gold'] = df['summer_gold'].map(convert_int)\n",
    "\n",
    "# printing the country with max gold\n",
    "df[df['summer_gold'] == df['summer_gold'].max()].index[0]\n",
    "\n",
    "# converting string into numbers\n",
    "df['winter_gold'] = df['winter_gold'].map(convert_int)\n",
    "\n",
    "# finding the max difference\n",
    "max_diff = abs(df['winter_gold'] - df['summer_gold']).max()\n",
    "\n",
    "# finding the name of the country\n",
    "print(df[abs(df['winter_gold'] - df['summer_gold']) == max_diff].index[0], max_diff)\n",
    "'''\n",
    "QUESTION 6\n",
    "'''\n",
    "# changing the str values to numberic values\n",
    "df['summer_silver'] = df['summer_silver'].map(convert_int)\n",
    "df['summer_bronze'] = df['summer_bronze'].map(convert_int)\n",
    "df['winter_silver'] = df['winter_silver'].map(convert_int)\n",
    "df['winter_bronze'] = df['winter_bronze'].map(convert_int)\n",
    "\n",
    "# creating a new column with sum of all medals\n",
    "df['total'] = df['summer_gold'] + df['summer_silver'] + df['summer_bronze'] + df['winter_gold'] + df['winter_silver'] + df['winter_bronze']\n",
    "\n",
    "# printing the values\n",
    "print(df.sort_values(by='total', ascending=False).head().to_string())\n",
    "print(df.sort_values(by='total', ascending=False).tail().to_string())"
   ]
  },
  {
   "cell_type": "code",
   "execution_count": 32,
   "metadata": {},
   "outputs": [
    {
     "data": {
      "text/plain": [
       "<matplotlib.axes._subplots.AxesSubplot at 0x2c3b8c5b6a0>"
      ]
     },
     "execution_count": 32,
     "metadata": {},
     "output_type": "execute_result"
    },
    {
     "data": {
      "image/png": "[encoded data removed]",
      "text/plain": [
       "<Figure size 432x288 with 1 Axes>"
      ]
     },
     "metadata": {
      "needs_background": "light"
     },
     "output_type": "display_data"
    }
   ],
   "source": [
    "'''\n",
    "QUESTION 7\n",
    "'''\n",
    "\n",
    "# take out top 10 winners\n",
    "top_winners = df.sort_values(by='total', ascending=False).head(10)\n",
    "\n",
    "# add new column for summer and winter total\n",
    "top_winners['winter_total'] = df['winter_gold'] + df['winter_silver'] + df['winter_bronze'] \n",
    "top_winners['summer_total'] = df['summer_gold'] + df['summer_silver'] + df['summer_bronze'] \n",
    "\n",
    "# change the sort order\n",
    "top_winners_sorted = top_winners.sort_values(by='total')\n",
    "\n",
    "# plot\n",
    "top_winners_sorted.plot.barh(y=['summer_total', 'winter_total'], stacked=True)"
   ]
  }
 ],
 "metadata": {
  "kernelspec": {
   "display_name": "Python 3",
   "language": "python",
   "name": "python3"
  },
  "language_info": {
   "codemirror_mode": {
    "name": "ipython",
    "version": 3
   },
   "file_extension": ".py",
   "mimetype": "text/x-python",
   "name": "python",
   "nbconvert_exporter": "python",
   "pygments_lexer": "ipython3",
   "version": "3.7.3"
  }
 },
 "nbformat": 4,
 "nbformat_minor": 4
}
