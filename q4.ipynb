{
 "cells": [
  {
   "cell_type": "code",
   "execution_count": 1,
   "metadata": {
    "collapsed": true,
    "jupyter": {
     "outputs_hidden": true,
     "source_hidden": true
    }
   },
   "outputs": [
    {
     "name": "stdout",
     "output_type": "stream",
     "text": [
      "                    Country summer_rubbish summer_participation summer_gold summer_silver summer_bronze summer_total winter_participation winter_gold winter_silver winter_bronze winter_total\n",
      "1         Afghanistan (AFG)            BLA                   14           0             0             2            2                    0           0             0             0            0\n",
      "2             Algeria (ALG)            BLA                   13           5             4             8           17                    3           0             0             0            0\n",
      "3           Argentina (ARG)            BLA                   24          21            25            28           74                   19           0             0             0            0\n",
      "4             Armenia (ARM)            BLA                    6           2             6             6           14                    7           0             0             0            0\n",
      "5   Australasia (ANZ) [ANZ]            BLA                    2           3             4             5           12                    0           0             0             0            0\n"
     ]
    },
    {
     "data": {
      "text/plain": [
       "'                                   summer_participation summer_gold summer_silver summer_bronze winter_participation winter_gold winter_silver winter_bronze\\nCountry                                                                                                                                                     \\n Vietnam                                             15           1             3             0                    0           0             0             0\\n Virgin Islands                                      12           0             1             0                    7           0             0             0\\n Yugoslavia                                          18          28            31            31                   16           0             3             1\\n Zambia                                              13           0             1             1                    0           0             0             0\\n Zimbabwe                                            13           3             4             1                    1           0             0             0\\n Unified Team                                         1          45            38            29                    1           9             6             8\\n Independent Olympic Athletes                         3           1             0             1                    0           0             0             0\\n Independent Olympic Participants                     1           0             1             2                    0           0             0             0\\n Olympic Athletes from Russia                         0           0             0             0                    1           2             6             9\\n Mixed team                                           3           8             5             4                    0           0             0             0'"
      ]
     },
     "execution_count": 1,
     "metadata": {},
     "output_type": "execute_result"
    }
   ],
   "source": [
    "'''\n",
    "QUESTION 1\n",
    "'''\n",
    "import pandas as pd\n",
    "# importing the datasets\n",
    "df1 = pd.read_csv('Olympics_dataset1.csv')\n",
    "df2 = pd.read_csv('Olympics_dataset2.csv')\n",
    "\n",
    "# merging the datasets\n",
    "df = pd.merge(left=df1, right=df2, on=None, left_on='Team', right_on='Team')\n",
    "\n",
    "# dropping the first row of the datasets\n",
    "df.drop(df.index[0], inplace=True)\n",
    "\n",
    "# dropping the unsued columns\n",
    "df.drop(['Combined Total', 'Unnamed: 7', 'Unnamed: 8', 'Unnamed: 9', 'Unnamed: 10',], axis='columns', inplace=True)\n",
    "\n",
    "# creating a dict to map the renaming of columns\n",
    "rename_dict = {\n",
    "    \"Team\": \"Country\",\n",
    "    \"Unnamed: 1\": \"summer_rubbish\",\n",
    "    \"Summer Games\": \"summer_participation\",\n",
    "    \"Unnamed: 3_x\": \"summer_gold\",\n",
    "    \"Unnamed: 4_x\": \"summer_silver\",\n",
    "    \"Unnamed: 5_x\": \"summer_bronze\",\n",
    "    \"Unnamed: 6\": \"summer_total\",\n",
    "    \"Winter Games\": \"winter_participation\",\n",
    "    \"Unnamed: 2\": \"winter_gold\",\n",
    "    \"Unnamed: 3_y\": \"winter_silver\",\n",
    "    \"Unnamed: 4_y\": \"winter_bronze\",\n",
    "    \"Unnamed: 5_y\": \"winter_total\",\n",
    "}\n",
    "\n",
    "# renaming the columns\n",
    "df.rename(columns=rename_dict, inplace=True)\n",
    "\n",
    "# removing the 'Totals' row from the dataframe\n",
    "df = df[df.Country != 'Totals']\n",
    "#df.drop(df.index[df.shape[0]-1], inplace=True)\n",
    "\n",
    "# printing first five rows of dataframe\n",
    "print(df.head().to_string())\n",
    "\n",
    "'''\n",
    "QUESTION 2\n",
    "'''\n",
    "\n",
    "# function for removing the words in brackets\n",
    "def remove_words_in_brackets(cell):\n",
    "    for i in range(len(cell)):\n",
    "        if cell[i] == '(':\n",
    "            return cell[:i]\n",
    "    return cell\n",
    "\n",
    "# removing words in brackets\n",
    "df['Country'] = df['Country'].map(remove_words_in_brackets)\n",
    "\n",
    "# setting index as Country\n",
    "df.set_index('Country', inplace=True)\n",
    "\n",
    "# removing the undesired columns\n",
    "df.drop(['summer_rubbish', 'summer_total', 'winter_total'], axis='columns', inplace=True)\n",
    "\n",
    "# printing the data\n",
    "df.head().to_string()\n",
    "\n",
    "'''\n",
    "QUESTION 3\n",
    "'''\n",
    "\n",
    "# dropping rows with na values\n",
    "df.dropna(how='all', inplace=True)\n",
    "\n",
    "# printing values\n",
    "df.tail(10).to_string()"
   ]
  },
  {
   "cell_type": "code",
   "execution_count": 23,
   "metadata": {},
   "outputs": [
    {
     "data": {
      "text/plain": [
       "' United States '"
      ]
     },
     "execution_count": 23,
     "metadata": {},
     "output_type": "execute_result"
    }
   ],
   "source": [
    "'''\n",
    "QUESTION 4\n",
    "'''\n",
    "\n",
    "# function for casting string to integer\n",
    "def convert_int(n):\n",
    "    if ',' in n:\n",
    "        n = n.replace(',', '')\n",
    "        return int(n)\n",
    "    else:\n",
    "        return int(n)\n",
    "\n",
    "# converting string into numbers\n",
    "df['summer_gold'] = df['summer_gold'].map(convert_int)\n",
    "\n",
    "# printing the country with max gold\n",
    "df[df['summer_gold'] == df['summer_gold'].max()].index[0]"
   ]
  },
  {
   "cell_type": "code",
   "execution_count": 24,
   "metadata": {},
   "outputs": [
    {
     "data": {
      "text/plain": [
       "1022"
      ]
     },
     "execution_count": 24,
     "metadata": {},
     "output_type": "execute_result"
    }
   ],
   "source": []
  },
  {
   "cell_type": "code",
   "execution_count": null,
   "metadata": {},
   "outputs": [],
   "source": []
  }
 ],
 "metadata": {
  "kernelspec": {
   "display_name": "Python 3",
   "language": "python",
   "name": "python3"
  },
  "language_info": {
   "codemirror_mode": {
    "name": "ipython",
    "version": 3
   },
   "file_extension": ".py",
   "mimetype": "text/x-python",
   "name": "python",
   "nbconvert_exporter": "python",
   "pygments_lexer": "ipython3",
   "version": "3.7.3"
  }
 },
 "nbformat": 4,
 "nbformat_minor": 4
}
