{
 "cells": [
  {
   "cell_type": "code",
   "execution_count": 1,
   "metadata": {
    "collapsed": true,
    "jupyter": {
     "outputs_hidden": true
    }
   },
   "outputs": [
    {
     "name": "stdout",
     "output_type": "stream",
     "text": [
      "                    Country summer_rubbish summer_participation summer_gold summer_silver summer_bronze summer_total winter_participation winter_gold winter_silver winter_bronze winter_total\n",
      "1         Afghanistan (AFG)            BLA                   14           0             0             2            2                    0           0             0             0            0\n",
      "2             Algeria (ALG)            BLA                   13           5             4             8           17                    3           0             0             0            0\n",
      "3           Argentina (ARG)            BLA                   24          21            25            28           74                   19           0             0             0            0\n",
      "4             Armenia (ARM)            BLA                    6           2             6             6           14                    7           0             0             0            0\n",
      "5   Australasia (ANZ) [ANZ]            BLA                    2           3             4             5           12                    0           0             0             0            0\n"
     ]
    },
    {
     "data": {
      "text/plain": [
       "' United States '"
      ]
     },
     "execution_count": 1,
     "metadata": {},
     "output_type": "execute_result"
    }
   ],
   "source": [
    "'''\n",
    "QUESTION 1\n",
    "'''\n",
    "import pandas as pd\n",
    "# importing the datasets\n",
    "df1 = pd.read_csv('Olympics_dataset1.csv')\n",
    "df2 = pd.read_csv('Olympics_dataset2.csv')\n",
    "\n",
    "# merging the datasets\n",
    "df = pd.merge(left=df1, right=df2, on=None, left_on='Team', right_on='Team')\n",
    "\n",
    "# dropping the first row of the datasets\n",
    "df.drop(df.index[0], inplace=True)\n",
    "\n",
    "# dropping the unsued columns\n",
    "df.drop(['Combined Total', 'Unnamed: 7', 'Unnamed: 8', 'Unnamed: 9', 'Unnamed: 10',], axis='columns', inplace=True)\n",
    "\n",
    "# creating a dict to map the renaming of columns\n",
    "rename_dict = {\n",
    "    \"Team\": \"Country\",\n",
    "    \"Unnamed: 1\": \"summer_rubbish\",\n",
    "    \"Summer Games\": \"summer_participation\",\n",
    "    \"Unnamed: 3_x\": \"summer_gold\",\n",
    "    \"Unnamed: 4_x\": \"summer_silver\",\n",
    "    \"Unnamed: 5_x\": \"summer_bronze\",\n",
    "    \"Unnamed: 6\": \"summer_total\",\n",
    "    \"Winter Games\": \"winter_participation\",\n",
    "    \"Unnamed: 2\": \"winter_gold\",\n",
    "    \"Unnamed: 3_y\": \"winter_silver\",\n",
    "    \"Unnamed: 4_y\": \"winter_bronze\",\n",
    "    \"Unnamed: 5_y\": \"winter_total\",\n",
    "}\n",
    "\n",
    "# renaming the columns\n",
    "df.rename(columns=rename_dict, inplace=True)\n",
    "\n",
    "# removing the 'Totals' row from the dataframe\n",
    "df = df[df.Country != 'Totals']\n",
    "#df.drop(df.index[df.shape[0]-1], inplace=True)\n",
    "\n",
    "# printing first five rows of dataframe\n",
    "print(df.head().to_string())\n",
    "\n",
    "'''\n",
    "QUESTION 2\n",
    "'''\n",
    "\n",
    "# function for removing the words in brackets\n",
    "def remove_words_in_brackets(cell):\n",
    "    for i in range(len(cell)):\n",
    "        if cell[i] == '(':\n",
    "            return cell[:i]\n",
    "    return cell\n",
    "\n",
    "# removing words in brackets\n",
    "df['Country'] = df['Country'].map(remove_words_in_brackets)\n",
    "\n",
    "# setting index as Country\n",
    "df.set_index('Country', inplace=True)\n",
    "\n",
    "# removing the undesired columns\n",
    "df.drop(['summer_rubbish', 'summer_total', 'winter_total'], axis='columns', inplace=True)\n",
    "\n",
    "# printing the data\n",
    "df.head().to_string()\n",
    "\n",
    "'''\n",
    "QUESTION 3\n",
    "'''\n",
    "\n",
    "# dropping rows with na values\n",
    "df.dropna(how='all', inplace=True)\n",
    "\n",
    "# printing values\n",
    "df.tail(10).to_string()\n",
    "\n",
    "\n",
    "'''\n",
    "QUESTION 4\n",
    "'''\n",
    "\n",
    "# function for casting string to integer\n",
    "def convert_int(n):\n",
    "    if ',' in n:\n",
    "        n = n.replace(',', '')\n",
    "        return int(n)\n",
    "    else:\n",
    "        return int(n)\n",
    "\n",
    "# converting string into numbers\n",
    "df['summer_gold'] = df['summer_gold'].map(convert_int)\n",
    "\n",
    "# printing the country with max gold\n",
    "df[df['summer_gold'] == df['summer_gold'].max()].index[0]\n"
   ]
  },
  {
   "cell_type": "code",
   "execution_count": 3,
   "metadata": {
    "collapsed": true,
    "jupyter": {
     "outputs_hidden": true
    }
   },
   "outputs": [
    {
     "ename": "TypeError",
     "evalue": "argument of type 'int' is not iterable",
     "output_type": "error",
     "traceback": [
      "\u001b[1;31m---------------------------------------------------------------------------\u001b[0m",
      "\u001b[1;31mTypeError\u001b[0m                                 Traceback (most recent call last)",
      "\u001b[1;32m<ipython-input-3-b3242500e1ef>\u001b[0m in \u001b[0;36m<module>\u001b[1;34m\u001b[0m\n\u001b[0;32m      4\u001b[0m \u001b[1;33m\u001b[0m\u001b[0m\n\u001b[0;32m      5\u001b[0m \u001b[1;31m# converting string into numbers\u001b[0m\u001b[1;33m\u001b[0m\u001b[1;33m\u001b[0m\u001b[1;33m\u001b[0m\u001b[0m\n\u001b[1;32m----> 6\u001b[1;33m \u001b[0mdf\u001b[0m\u001b[1;33m[\u001b[0m\u001b[1;34m'winter_gold'\u001b[0m\u001b[1;33m]\u001b[0m \u001b[1;33m=\u001b[0m \u001b[0mdf\u001b[0m\u001b[1;33m[\u001b[0m\u001b[1;34m'winter_gold'\u001b[0m\u001b[1;33m]\u001b[0m\u001b[1;33m.\u001b[0m\u001b[0mmap\u001b[0m\u001b[1;33m(\u001b[0m\u001b[0mconvert_int\u001b[0m\u001b[1;33m)\u001b[0m\u001b[1;33m\u001b[0m\u001b[1;33m\u001b[0m\u001b[0m\n\u001b[0m\u001b[0;32m      7\u001b[0m \u001b[0mdiff\u001b[0m \u001b[1;33m=\u001b[0m \u001b[0mabs\u001b[0m\u001b[1;33m(\u001b[0m\u001b[0mdf\u001b[0m\u001b[1;33m[\u001b[0m\u001b[1;34m'winter_gold'\u001b[0m\u001b[1;33m]\u001b[0m \u001b[1;33m-\u001b[0m \u001b[0mdf\u001b[0m\u001b[1;33m[\u001b[0m\u001b[1;34m'summer_gold'\u001b[0m\u001b[1;33m]\u001b[0m\u001b[1;33m)\u001b[0m\u001b[1;33m\u001b[0m\u001b[1;33m\u001b[0m\u001b[0m\n",
      "\u001b[1;32mC:\\ProgramData\\Anaconda3\\lib\\site-packages\\pandas\\core\\series.py\u001b[0m in \u001b[0;36mmap\u001b[1;34m(self, arg, na_action)\u001b[0m\n\u001b[0;32m   3380\u001b[0m         \"\"\"\n\u001b[0;32m   3381\u001b[0m         new_values = super(Series, self)._map_values(\n\u001b[1;32m-> 3382\u001b[1;33m             arg, na_action=na_action)\n\u001b[0m\u001b[0;32m   3383\u001b[0m         return self._constructor(new_values,\n\u001b[0;32m   3384\u001b[0m                                  index=self.index).__finalize__(self)\n",
      "\u001b[1;32mC:\\ProgramData\\Anaconda3\\lib\\site-packages\\pandas\\core\\base.py\u001b[0m in \u001b[0;36m_map_values\u001b[1;34m(self, mapper, na_action)\u001b[0m\n\u001b[0;32m   1216\u001b[0m \u001b[1;33m\u001b[0m\u001b[0m\n\u001b[0;32m   1217\u001b[0m         \u001b[1;31m# mapper is a function\u001b[0m\u001b[1;33m\u001b[0m\u001b[1;33m\u001b[0m\u001b[1;33m\u001b[0m\u001b[0m\n\u001b[1;32m-> 1218\u001b[1;33m         \u001b[0mnew_values\u001b[0m \u001b[1;33m=\u001b[0m \u001b[0mmap_f\u001b[0m\u001b[1;33m(\u001b[0m\u001b[0mvalues\u001b[0m\u001b[1;33m,\u001b[0m \u001b[0mmapper\u001b[0m\u001b[1;33m)\u001b[0m\u001b[1;33m\u001b[0m\u001b[1;33m\u001b[0m\u001b[0m\n\u001b[0m\u001b[0;32m   1219\u001b[0m \u001b[1;33m\u001b[0m\u001b[0m\n\u001b[0;32m   1220\u001b[0m         \u001b[1;32mreturn\u001b[0m \u001b[0mnew_values\u001b[0m\u001b[1;33m\u001b[0m\u001b[1;33m\u001b[0m\u001b[0m\n",
      "\u001b[1;32mpandas/_libs/lib.pyx\u001b[0m in \u001b[0;36mpandas._libs.lib.map_infer\u001b[1;34m()\u001b[0m\n",
      "\u001b[1;32m<ipython-input-1-0ba02e800181>\u001b[0m in \u001b[0;36mconvert_int\u001b[1;34m(n)\u001b[0m\n\u001b[0;32m     82\u001b[0m \u001b[1;31m# function for casting string to integer\u001b[0m\u001b[1;33m\u001b[0m\u001b[1;33m\u001b[0m\u001b[1;33m\u001b[0m\u001b[0m\n\u001b[0;32m     83\u001b[0m \u001b[1;32mdef\u001b[0m \u001b[0mconvert_int\u001b[0m\u001b[1;33m(\u001b[0m\u001b[0mn\u001b[0m\u001b[1;33m)\u001b[0m\u001b[1;33m:\u001b[0m\u001b[1;33m\u001b[0m\u001b[1;33m\u001b[0m\u001b[0m\n\u001b[1;32m---> 84\u001b[1;33m     \u001b[1;32mif\u001b[0m \u001b[1;34m','\u001b[0m \u001b[1;32min\u001b[0m \u001b[0mn\u001b[0m\u001b[1;33m:\u001b[0m\u001b[1;33m\u001b[0m\u001b[1;33m\u001b[0m\u001b[0m\n\u001b[0m\u001b[0;32m     85\u001b[0m         \u001b[0mn\u001b[0m \u001b[1;33m=\u001b[0m \u001b[0mn\u001b[0m\u001b[1;33m.\u001b[0m\u001b[0mreplace\u001b[0m\u001b[1;33m(\u001b[0m\u001b[1;34m','\u001b[0m\u001b[1;33m,\u001b[0m \u001b[1;34m''\u001b[0m\u001b[1;33m)\u001b[0m\u001b[1;33m\u001b[0m\u001b[1;33m\u001b[0m\u001b[0m\n\u001b[0;32m     86\u001b[0m         \u001b[1;32mreturn\u001b[0m \u001b[0mint\u001b[0m\u001b[1;33m(\u001b[0m\u001b[0mn\u001b[0m\u001b[1;33m)\u001b[0m\u001b[1;33m\u001b[0m\u001b[1;33m\u001b[0m\u001b[0m\n",
      "\u001b[1;31mTypeError\u001b[0m: argument of type 'int' is not iterable"
     ]
    }
   ],
   "source": [
    "'''\n",
    "QUESTION 5\n",
    "'''\n",
    "\n",
    "# converting string into numbers\n",
    "df['winter_gold'] = df['winter_gold'].map(convert_int)\n",
    "\n",
    "# finding the max difference\n",
    "max_diff = abs(df['winter_gold'] - df['summer_gold']).max()\n",
    "\n",
    "# finding the name of the country\n",
    "print(df[abs(df['winter_gold'] - df['summer_gold']) == max_diff].index[0], max_diff)"
   ]
  }
 ],
 "metadata": {
  "kernelspec": {
   "display_name": "Python 3",
   "language": "python",
   "name": "python3"
  },
  "language_info": {
   "codemirror_mode": {
    "name": "ipython",
    "version": 3
   },
   "file_extension": ".py",
   "mimetype": "text/x-python",
   "name": "python",
   "nbconvert_exporter": "python",
   "pygments_lexer": "ipython3",
   "version": "3.7.3"
  }
 },
 "nbformat": 4,
 "nbformat_minor": 4
}
